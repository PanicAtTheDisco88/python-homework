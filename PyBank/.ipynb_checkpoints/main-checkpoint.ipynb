{
 "cells": [
  {
   "cell_type": "code",
   "execution_count": null,
   "metadata": {
    "scrolled": true
   },
   "outputs": [],
   "source": [
    "# Find dataset budget_data.csv within cu-nyc-virt-fin-pt-03-2021-u-c repo; confirms only one budget_data.csv file exists in directory\n",
    "\n",
    "import os\n",
    "\n",
    "budget_data_csv = \"budget_data.csv\"\n",
    "path_source =\"\"\n",
    "path_source = os.chdir(r'C:/Users/rhnil/Desktop/Week2_Python/cu-nyc-virt-fin-pt-03-2021-u-c')\n",
    "path_source = os.getcwd()\n",
    "print(\"we are here0\")\n",
    "def find_all(budget_data_csv, path_source):\n",
    "    result = []\n",
    "    count = 0\n",
    "    print(\"we are here1\")\n",
    "    for root, dirs, files in os.walk(path_source):\n",
    "        print(\"we are here2\")\n",
    "        if budget_data_csv in files:\n",
    "            print(\"we are here3\")\n",
    "            result.append(os.path.join(root, budget_data_csv))\n",
    "            count +=1\n",
    "            if count >1:\n",
    "                print(\"WARNING: Directory contains multiple files named 'budget_data.csv'\")\n",
    "    return result\n",
    "\n",
    "budget_filepath = find_all(budget_data_csv,path_source)\n",
    "print(\"we are here\")\n",
    "print(budget_filepath)\n",
    "\n",
    "#Note to self: Consider asking user if they would like to copy this file from this source"
   ]
  },
  {
   "cell_type": "code",
   "execution_count": null,
   "metadata": {},
   "outputs": [],
   "source": [
    "#To come: Ask user if they would like to copy file from the source\n",
    "#value = input(f\"Would you like to copy: {display_budget}\")\n",
    "#To come: Ask user if they would like to paste file to python-homework or specify different destination folder"
   ]
  }
 ],
 "metadata": {
  "kernelspec": {
   "display_name": "Python 3",
   "language": "python",
   "name": "python3"
  },
  "language_info": {
   "codemirror_mode": {
    "name": "ipython",
    "version": 3
   },
   "file_extension": ".py",
   "mimetype": "text/x-python",
   "name": "python",
   "nbconvert_exporter": "python",
   "pygments_lexer": "ipython3",
   "version": "3.8.5"
  }
 },
 "nbformat": 4,
 "nbformat_minor": 4
}
