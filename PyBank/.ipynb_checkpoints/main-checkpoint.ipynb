{
 "cells": [
  {
   "cell_type": "code",
   "execution_count": 74,
   "metadata": {},
   "outputs": [
    {
     "name": "stdout",
     "output_type": "stream",
     "text": [
      "['Date', 'Profit/Losses'] <---- HEADER\n"
     ]
    }
   ],
   "source": [
    "# Import from the pathlib and csv library\n",
    "from pathlib import Path\n",
    "import csv\n",
    "#from pandas import DataFrame\n",
    "\n",
    "# Set file path \n",
    "csvpath = \"./Resources/budget_data.csv\"\n",
    "\n",
    "# Initialize variable to hold profit/loss data\n",
    "pnl_data = []\n",
    "\n",
    "# Initialize line_num variable\n",
    "line_num = 0\n",
    "\n",
    "# Open the input path as a file object\n",
    "with open (csvpath, 'r') as csvfile:\n",
    "    # Pass in the csv file to the csv.reader() function\n",
    "    # (with ',' as the delmiter/separator) and return the csvreader object\n",
    "    csvreader = csv.reader(csvfile, delimiter=',')\n",
    "   \n",
    "    # Go to the next row from the start of the file\n",
    "    # (which is often the first row/header) and iterate line_num by 1\n",
    "    header = next(csvreader)\n",
    "    line_num += 1\n",
    "    # Print the header\n",
    "    print(f\"{header} <---- HEADER\")\n",
    "\n",
    "    # Read each row of data after the header\n",
    "    for row in csvreader:\n",
    "        # Populate list pnl_data with date and corresponding profit/loss data\n",
    "        #date = row[0]\n",
    "        #pnl_data.append(date)\n",
    "        pnl = int(row[1])\n",
    "        pnl_data.append(pnl)\n",
    "\n",
    "#print(pnl_data)\n",
    "        \n",
    "        "
   ]
  },
  {
   "cell_type": "code",
   "execution_count": 71,
   "metadata": {},
   "outputs": [
    {
     "name": "stdout",
     "output_type": "stream",
     "text": [
      "Total months: Profit/Losses    86\n",
      "dtype: int64\n",
      "Total: $Profit/Losses    38382578\n",
      "dtype: int64\n",
      "Average change: $\"Profit/Losses   -2315.117647\n",
      "dtype: float64\n",
      "Greatest Increase in Profits: $Profit/Losses    1170593\n",
      "dtype: int64\n",
      "Greatest Decrease in Profits: $Profit/Losses   -1196225\n",
      "dtype: int64\n"
     ]
    }
   ],
   "source": [
    "# Convert list to pandas dataframe\n",
    "df_pnl = DataFrame(pnl_data,columns=['Profit/Losses'])\n",
    "\n",
    "# Print the metrics\n",
    "print(f'Total months: {df_pnl.count()}')\n",
    "\n",
    "print(f'Total: ${df_pnl.sum()}')\n",
    "\n",
    "daily_return = df_pnl - df_pnl.shift(1)\n",
    "average_pnl = daily_return.sum()/(df_pnl.count()-1)\n",
    "print(f'Average change: $\"{average_pnl}')\n",
    "\n",
    "print(f'Greatest Increase in Profits: ${df_pnl.max()}')\n",
    "\n",
    "print(f'Greatest Decrease in Profits: ${df_pnl.min()}')"
   ]
  },
  {
   "cell_type": "code",
   "execution_count": null,
   "metadata": {},
   "outputs": [],
   "source": [
    "\n",
    "#Ask user if they would like to copy file from the source\n",
    "copyfile_flag = input(f\"Would you like to copy: {budget_filepath_source} (y/n)\\n\\n\")\n",
    "\n",
    "if copyfile_flag == 'y':\n",
    "        print(f\"\\n Copying...\")\n",
    "        print(budget_filepath_source)\n",
    "        with open(budget_filepath_source, 'r') as file:\n",
    "            print(\"here\")\n",
    "            # Store all of the text from the file inside a variable called \"text\"\n",
    "            # and print the contexts of the text file\n",
    "            text = file.read()\n",
    "            print(text)\n",
    "elif copyfile_flag != 'y':\n",
    "    print(f\"\\n Goodbye!\")\n",
    "    quit()"
   ]
  },
  {
   "cell_type": "code",
   "execution_count": null,
   "metadata": {},
   "outputs": [],
   "source": [
    "help(Path)\n"
   ]
  },
  {
   "cell_type": "code",
   "execution_count": null,
   "metadata": {},
   "outputs": [],
   "source": []
  }
 ],
 "metadata": {
  "kernelspec": {
   "display_name": "Python 3",
   "language": "python",
   "name": "python3"
  },
  "language_info": {
   "codemirror_mode": {
    "name": "ipython",
    "version": 3
   },
   "file_extension": ".py",
   "mimetype": "text/x-python",
   "name": "python",
   "nbconvert_exporter": "python",
   "pygments_lexer": "ipython3",
   "version": "3.8.5"
  }
 },
 "nbformat": 4,
 "nbformat_minor": 4
}
