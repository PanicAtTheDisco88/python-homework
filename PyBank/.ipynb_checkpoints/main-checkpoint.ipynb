{
 "cells": [
  {
   "cell_type": "code",
   "execution_count": 288,
   "metadata": {},
   "outputs": [
    {
     "name": "stdout",
     "output_type": "stream",
     "text": [
      "C:\\Users\\rhnil\\Desktop\\Week2_Python\\cu-nyc-virt-fin-pt-03-2021-u-c\n"
     ]
    }
   ],
   "source": [
    "# Locating dataset budget_data.csv within cu-nyc-virt-fin-pt-03-2021-u-c repo\n",
    "import os\n",
    "#path = os.chdir(r'C:/Users/rhnil/Desktop/Week2_Python/cu-nyc-virt-fin-pt-03-2021-u-c')\n",
    "path = os.getcwd()\n",
    "print (path)\n",
    "\n",
    "# Import budget_data.csv\n",
    "import csv\n",
    "\n",
    "# Read in budget_data.csv\n",
    "budget_data_csv = \"budget_data.csv\"\n",
    "\n",
    "# Set local path to import budget_data_csv\n",
    "#budget_data_csv_path = os.path.join(path, budget_data_fname)\n",
    "#print (budget_data_csv_path)\n",
    " \n",
    "\n",
    "# Alternative method for printing files with PyBank directory -- full path with filename\n",
    "# print (\"Alternative method for printing files with PyBank directory -- full path with filename\") \n",
    "# f_name = [os.path.abspath(x) for x in os.listdir()]\n",
    "# print (f_name)\n"
   ]
  },
  {
   "cell_type": "code",
   "execution_count": 289,
   "metadata": {},
   "outputs": [
    {
     "ename": "SyntaxError",
     "evalue": "invalid syntax (<ipython-input-289-5d96cee81d19>, line 23)",
     "output_type": "error",
     "traceback": [
      "\u001b[1;36m  File \u001b[1;32m\"<ipython-input-289-5d96cee81d19>\"\u001b[1;36m, line \u001b[1;32m23\u001b[0m\n\u001b[1;33m    print(\"Values of result, after os.walk called:\", result)\u001b[0m\n\u001b[1;37m    ^\u001b[0m\n\u001b[1;31mSyntaxError\u001b[0m\u001b[1;31m:\u001b[0m invalid syntax\n"
     ]
    }
   ],
   "source": [
    "import os\n",
    "# Import budget_data.csv\n",
    "import csv\n",
    "\n",
    "# Read in budget_data.csv\n",
    "budget_data_csv = \"budget_data.csv\"\n",
    "\n",
    "# Function find_files looks for budget_data.csv in directory PyBank\n",
    "result = []\n",
    "\n",
    "def find_file(budget_data_csv, path):\n",
    "    print (\"inside find_file function\")\n",
    "    print(\"Values of result, before os.walk() called:\", result)\n",
    "    print(\"Type of result:\", type(result))\n",
    "    print(\"Size of result\", len(result)) \n",
    "             \n",
    "#Walking top-down from PyBank directory\n",
    "    for root, dirs, files in os.walk(os.getcwd(), topdown=False):\n",
    "        print(\"entered for loop\")\n",
    "        for name in files:\n",
    "            print(os.path.join(root, name)\n",
    "            #result.append(os.path.join(path, budget_data_csv))\n",
    "            print(\"Values of result, after os.walk called:\", result)\n",
    "    return; \n",
    "\n",
    "# Calling find_file function\n",
    "find_file(budget_data_csv,path)\n",
    "\n",
    "#path = os.path.join (os.getcwd(), budget_data_csv)\n",
    "#print (path)\n",
    "#budget_data_csv_path = os.path.join(path, budget_data_fname)\n",
    "#print (budget_data_csv_path)\n"
   ]
  },
  {
   "cell_type": "code",
   "execution_count": 229,
   "metadata": {},
   "outputs": [
    {
     "name": "stdout",
     "output_type": "stream",
     "text": [
      "init\n",
      "<function find_file at 0x0000017EF4C65940>\n"
     ]
    }
   ],
   "source": [
    "# Function find_files looks for budget_data.csv in directory PyBank\n",
    "print (\"init\")\n",
    "\n",
    "root = \"C:\"\n",
    "\n",
    "def find_file(budget_data_csv, path):\n",
    "    print (\"inside find_file function\")\n",
    "    result = []\n",
    "    return;   \n",
    "# Convert path variable to string\n",
    "    #path = str(path)\n",
    "        \n",
    "# Walking top-down from PyBank directory\n",
    "    #for root,dir in os.walk(path):\n",
    "        #if budget_data_fname in os.path.join(path, budget_data_fname):\n",
    "            #result.append(os.path.join(path, budget_data_fname))\n",
    "    #return result; \n",
    "\n",
    "print (find_file)"
   ]
  }
 ],
 "metadata": {
  "kernelspec": {
   "display_name": "Python 3",
   "language": "python",
   "name": "python3"
  },
  "language_info": {
   "codemirror_mode": {
    "name": "ipython",
    "version": 3
   },
   "file_extension": ".py",
   "mimetype": "text/x-python",
   "name": "python",
   "nbconvert_exporter": "python",
   "pygments_lexer": "ipython3",
   "version": "3.8.5"
  }
 },
 "nbformat": 4,
 "nbformat_minor": 4
}
