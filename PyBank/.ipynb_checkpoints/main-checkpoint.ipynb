{
 "cells": [
  {
   "cell_type": "code",
   "execution_count": null,
   "metadata": {},
   "outputs": [],
   "source": [
    "from pathlib import Path\n",
    "dir(pathlib)"
   ]
  },
  {
   "cell_type": "code",
   "execution_count": null,
   "metadata": {},
   "outputs": [],
   "source": [
    "dir(glob)"
   ]
  },
  {
   "cell_type": "code",
   "execution_count": null,
   "metadata": {},
   "outputs": [],
   "source": [
    "pathname = pathlib.Path.cwd()\n",
    "print(pathname)\n",
    "print(type(pathname))"
   ]
  },
  {
   "cell_type": "code",
   "execution_count": 19,
   "metadata": {},
   "outputs": [
    {
     "name": "stdout",
     "output_type": "stream",
     "text": [
      "../Desktop/Columbia_Bootcamp/Week2_Python/\n",
      "filename:  \n"
     ]
    },
    {
     "data": {
      "text/plain": [
       "[WindowsPath('Resources/budget_data.csv')]"
      ]
     },
     "execution_count": 19,
     "metadata": {},
     "output_type": "execute_result"
    }
   ],
   "source": [
    "# Import from the pathlib library, the main class Path\n",
    "from pathlib import Path\n",
    "import glob\n",
    "import os\n",
    "\n",
    "#Initialize varaibles \n",
    "source_path = \"../Desktop/Columbia_Bootcamp/Week2_Python/\"\n",
    "filename = \" \"\n",
    "result=[]\n",
    "\n",
    "print(source_path)\n",
    "print(f\"filename: {filename}\")\n",
    "\n",
    "def find_all (source_path, filename):\n",
    "    for name in glob.glob('*/*.csv',recursive=True):\n",
    "        filename = name\n",
    "        result.append(Path(filename))\n",
    "    return result\n",
    "\n",
    "find_all(source_path,filename)\n"
   ]
  },
  {
   "cell_type": "code",
   "execution_count": 15,
   "metadata": {},
   "outputs": [
    {
     "ename": "NameError",
     "evalue": "name 'budget_filepath_source' is not defined",
     "output_type": "error",
     "traceback": [
      "\u001b[1;31m---------------------------------------------------------------------------\u001b[0m",
      "\u001b[1;31mNameError\u001b[0m                                 Traceback (most recent call last)",
      "\u001b[1;32m<ipython-input-15-92ac8b8c6771>\u001b[0m in \u001b[0;36m<module>\u001b[1;34m\u001b[0m\n\u001b[0;32m      1\u001b[0m \u001b[1;31m#Ask user if they would like to copy file from the source\u001b[0m\u001b[1;33m\u001b[0m\u001b[1;33m\u001b[0m\u001b[1;33m\u001b[0m\u001b[0m\n\u001b[1;32m----> 2\u001b[1;33m \u001b[0mcopyfile_flag\u001b[0m \u001b[1;33m=\u001b[0m \u001b[0minput\u001b[0m\u001b[1;33m(\u001b[0m\u001b[1;34mf\"Would you like to copy: {budget_filepath_source} (y/n)\\n\\n\"\u001b[0m\u001b[1;33m)\u001b[0m\u001b[1;33m\u001b[0m\u001b[1;33m\u001b[0m\u001b[0m\n\u001b[0m\u001b[0;32m      3\u001b[0m \u001b[1;33m\u001b[0m\u001b[0m\n\u001b[0;32m      4\u001b[0m \u001b[1;32mif\u001b[0m \u001b[0mcopyfile_flag\u001b[0m \u001b[1;33m!=\u001b[0m \u001b[1;34m'y'\u001b[0m\u001b[1;33m:\u001b[0m\u001b[1;33m\u001b[0m\u001b[1;33m\u001b[0m\u001b[0m\n\u001b[0;32m      5\u001b[0m     \u001b[0mprint\u001b[0m\u001b[1;33m(\u001b[0m\u001b[1;34mf\"\\n Goodbye!\"\u001b[0m\u001b[1;33m)\u001b[0m\u001b[1;33m\u001b[0m\u001b[1;33m\u001b[0m\u001b[0m\n",
      "\u001b[1;31mNameError\u001b[0m: name 'budget_filepath_source' is not defined"
     ]
    }
   ],
   "source": [
    "\n",
    "#Ask user if they would like to copy file from the source\n",
    "copyfile_flag = input(f\"Would you like to copy: {budget_filepath_source} (y/n)\\n\\n\")\n",
    "\n",
    "if copyfile_flag != 'y':\n",
    "    print(f\"\\n Goodbye!\")\n",
    "    quit()\n",
    "elif copyfile_flag == 'y':\n",
    "        print(f\"\\n Copying...\")\n",
    "        print(budget_filepath_source)\n",
    "        with open(budget_filepath_source, 'r') as file:\n",
    "            # Store all of the text from the file inside a variable called \"text\"\n",
    "            # and print the contexts of the text file\n",
    "            text = file.read()\n",
    "            print(text)\n"
   ]
  },
  {
   "cell_type": "code",
   "execution_count": null,
   "metadata": {},
   "outputs": [],
   "source": [
    "help(Path)\n"
   ]
  },
  {
   "cell_type": "code",
   "execution_count": null,
   "metadata": {},
   "outputs": [],
   "source": []
  }
 ],
 "metadata": {
  "kernelspec": {
   "display_name": "Python 3",
   "language": "python",
   "name": "python3"
  },
  "language_info": {
   "codemirror_mode": {
    "name": "ipython",
    "version": 3
   },
   "file_extension": ".py",
   "mimetype": "text/x-python",
   "name": "python",
   "nbconvert_exporter": "python",
   "pygments_lexer": "ipython3",
   "version": "3.8.5"
  }
 },
 "nbformat": 4,
 "nbformat_minor": 4
}
