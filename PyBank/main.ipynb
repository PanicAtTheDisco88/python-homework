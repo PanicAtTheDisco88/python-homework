{
 "cells": [
  {
   "cell_type": "code",
   "execution_count": 19,
   "metadata": {},
   "outputs": [
    {
     "name": "stdout",
     "output_type": "stream",
     "text": [
      "Printing file path of local copy of PyBank and names of files within PyBank directory\n",
      "C:\\Users\\rhnil\\Desktop\\Week2_Python\\python-homework\\PyBank\n",
      "['.ipynb_checkpoints', 'main.ipynb']\n",
      "\n",
      "Alternative method for printing files with PyBank directory -- full path with filename\n",
      "['C:\\\\Users\\\\rhnil\\\\Desktop\\\\Week2_Python\\\\python-homework\\\\PyBank\\\\.ipynb_checkpoints', 'C:\\\\Users\\\\rhnil\\\\Desktop\\\\Week2_Python\\\\python-homework\\\\PyBank\\\\main.ipynb']\n"
     ]
    }
   ],
   "source": [
    "# Print file path of local copy of PyBank and names of files within PyBank directory\n",
    "print(\"Printing file path of local copy of PyBank and names of files within PyBank directory\")\n",
    "import os\n",
    "path = os.getcwd()\n",
    "print (path)\n",
    "\n",
    "f_name = os.listdir()\n",
    "print (f_name)\n",
    "print (\"\")\n",
    "\n",
    "# Alternative method for printing files with PyBank directory -- full path with filename\n",
    "\n",
    "print (\"Alternative method for printing files with PyBank directory -- full path with filename\") \n",
    "f_name = [os.path.abspath(x) for x in os.listdir()]\n",
    "print (f_name)\n"
   ]
  },
  {
   "cell_type": "code",
   "execution_count": 100,
   "metadata": {},
   "outputs": [
    {
     "name": "stdout",
     "output_type": "stream",
     "text": [
      "C:\\Users\\rhnil\\Desktop\\Week2_Python\\python-homework\\PyBank\\budget_data.csv\n"
     ]
    }
   ],
   "source": [
    "# Import budget_data.csv\n",
    "import csv\n",
    "\n",
    "# Read in budget_data.csv\n",
    "budget_data_fname = \"budget_data.csv\"\n",
    "budget_data_csv = os.path.join(path, budget_data_fname)\n",
    "print (os.path.join(path, budget_data_fname))\n"
   ]
  },
  {
   "cell_type": "code",
   "execution_count": 123,
   "metadata": {},
   "outputs": [
    {
     "name": "stdout",
     "output_type": "stream",
     "text": [
      "I'm first call to user defined function!\n",
      "Again second call to the same function\n"
     ]
    }
   ],
   "source": [
    "# Learning how to create and call functions to use in next block of code\n",
    "def printme(str):\n",
    "    print (str)\n",
    "    return;\n",
    "\n",
    "# Now you can call printme function\n",
    "printme(\"I'm first call to user defined function!\")\n",
    "printme(\"Again second call to the same function\")"
   ]
  },
  {
   "cell_type": "code",
   "execution_count": 122,
   "metadata": {},
   "outputs": [
    {
     "name": "stdout",
     "output_type": "stream",
     "text": [
      "init\n",
      "inside find_file function\n",
      "end find_file function\n"
     ]
    }
   ],
   "source": [
    "# Function find_files looks for budget_data.csv in directory PyBank\n",
    "print (\"init\")\n",
    "def find_file(budget_data_fname, path):\n",
    "    print (\"inside find_file function\")\n",
    "    result = []\n",
    "    return;\n",
    "find_file(budget_data_fname,path)  \n",
    "    \n",
    "# Walking top-down from PyBank directory\n",
    "    #for budget_data_fname in os.walk(path):\n",
    "     #   if budget_data_fname in filename:\n",
    "      #      print(result.append(os.path.join(path, budget_data_fname)))\n",
    "    #return result;\n",
    "print(\"end find_file function\")"
   ]
  },
  {
   "cell_type": "code",
   "execution_count": null,
   "metadata": {},
   "outputs": [],
   "source": []
  }
 ],
 "metadata": {
  "kernelspec": {
   "display_name": "Python 3",
   "language": "python",
   "name": "python3"
  },
  "language_info": {
   "codemirror_mode": {
    "name": "ipython",
    "version": 3
   },
   "file_extension": ".py",
   "mimetype": "text/x-python",
   "name": "python",
   "nbconvert_exporter": "python",
   "pygments_lexer": "ipython3",
   "version": "3.8.5"
  }
 },
 "nbformat": 4,
 "nbformat_minor": 4
}
