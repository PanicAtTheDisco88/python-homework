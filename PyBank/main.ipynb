{
 "cells": [
  {
   "cell_type": "code",
   "execution_count": 25,
   "metadata": {
    "scrolled": true
   },
   "outputs": [
    {
     "name": "stdout",
     "output_type": "stream",
     "text": [
      "['C:\\\\Users\\\\rhnil\\\\Desktop\\\\Columbia_Bootcamp\\\\cu-nyc-virt-fin-pt-03-2021-u-c\\\\02-Homework\\\\02-Python\\\\Instructions\\\\PyBank\\\\Resources\\\\budget_data.csv']\n"
     ]
    }
   ],
   "source": [
    "# Import OS library \n",
    "import os\n",
    "\n",
    "\n",
    "#Searches for dataset budget_data.csv within cu-nyc-virt-fin-pt-03-2021-u-c repo\n",
    "#Confirms only one budget_data.csv file exists in directory\n",
    "budget_data_csv = \"budget_data.csv\"\n",
    "sourcefile_path =\"\"\n",
    "sourcefile_path = os.chdir(r'C:/Users/rhnil/Desktop/Columbia_Bootcamp/cu-nyc-virt-fin-pt-03-2021-u-c')\n",
    "sourcefile_path = os.getcwd()\n",
    "\n",
    "def find_all(budget_data_csv, sourcefile_path):\n",
    "    result = []\n",
    "    count = 0\n",
    "    for root, dirs, files in os.walk(sourcefile_path):\n",
    "        if budget_data_csv in files:\n",
    "            result.append(os.path.join(root, budget_data_csv))\n",
    "            count +=1\n",
    "            if count >1:\n",
    "                print(\"WARNING: Directory contains multiple files named 'budget_data.csv'\")\n",
    "    return result\n",
    "\n",
    "budget_filepath = find_all(budget_data_csv,sourcefile_path)\n",
    "\n",
    "print(budget_filepath)\n"
   ]
  },
  {
   "cell_type": "code",
   "execution_count": null,
   "metadata": {},
   "outputs": [],
   "source": [
    "#To come: Ask user if they would like to copy file from the source\n",
    "#value = input(f\"Would you like to copy: {display_budget}\")\n",
    "#To come: Ask user if they would like to paste file to python-homework or specify different destination folder"
   ]
  }
 ],
 "metadata": {
  "kernelspec": {
   "display_name": "Python 3",
   "language": "python",
   "name": "python3"
  },
  "language_info": {
   "codemirror_mode": {
    "name": "ipython",
    "version": 3
   },
   "file_extension": ".py",
   "mimetype": "text/x-python",
   "name": "python",
   "nbconvert_exporter": "python",
   "pygments_lexer": "ipython3",
   "version": "3.8.5"
  }
 },
 "nbformat": 4,
 "nbformat_minor": 4
}
