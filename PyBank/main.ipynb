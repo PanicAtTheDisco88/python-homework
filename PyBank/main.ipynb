{
 "cells": [
  {
   "cell_type": "code",
   "execution_count": 35,
   "metadata": {},
   "outputs": [],
   "source": [
    "# Import csv and pandas libraries\n",
    "import csv\n",
    "import pandas as pd\n",
    "\n",
    "# Set file path \n",
    "csvpath = \"./Resources/budget_data.csv\"\n",
    "\n",
    "# Read csv file directly into dataframe\n",
    "df_pnl = pd.read_csv(csvpath)"
   ]
  },
  {
   "cell_type": "code",
   "execution_count": 39,
   "metadata": {},
   "outputs": [
    {
     "name": "stdout",
     "output_type": "stream",
     "text": [
      "Financial Analysis\n",
      "-------------------------------------------------------\n",
      "Total months: 86\n",
      "Total profit: $38,382,578.00\n",
      "Average change: $-2,315.12\n",
      "Greatest Increase in Profits: Feb-2012 ($1,926,159.00)\n",
      "Greatest Decrease in Profits: Sep-2013 ($-2,196,167.00)\n"
     ]
    }
   ],
   "source": [
    "# Print the metrics\n",
    "print(\"Financial Analysis\")\n",
    "print(\"-------------------------------------------------------\")\n",
    "\n",
    "# Total months\n",
    "print(f\"Total months: {df_pnl['Profit/Losses'].count()}\")\n",
    "\n",
    "# Total profit/loss\n",
    "total_pnl = df_pnl['Profit/Losses'].sum()\n",
    "if total_pnl >= 0:\n",
    "    print(f\"Total profit: ${total_pnl:,.2f}\")\n",
    "elif total_pnl < 0:\n",
    "    print(f\"Total loss: ${total_pnl:,.2f}\")\n",
    "\n",
    "# Average return in the dataset df_pnl\n",
    "df_pnl['DailyReturn'] = df_pnl['Profit/Losses'] - df_pnl['Profit/Losses'].shift(1)\n",
    "average_pnl = df_pnl['DailyReturn'].sum()/(df_pnl['DailyReturn'].count())\n",
    "print(f\"Average change: ${average_pnl:,.2f}\")\n",
    "\n",
    "# Greatest increase in profits and associated date in the dataset df_pnl\n",
    "calc_max = df_pnl['DailyReturn'].max()\n",
    "date_max_idx = df_pnl['DailyReturn'].idxmax()\n",
    "date_max = df_pnl.iloc[date_max_idx][0]\n",
    "print(f\"Greatest Increase in Profits: {date_max} (${calc_max:,.2f})\")\n",
    "\n",
    "# Greatest decrease in profits and associated date in dataset df_pnl\n",
    "calc_min = df_pnl['DailyReturn'].min()\n",
    "date_min_idx = df_pnl['DailyReturn'].idxmin()\n",
    "date_min = df_pnl.iloc[date_min_idx][0]\n",
    "print(f\"Greatest Decrease in Profits: {date_min} (${calc_min:,.2f})\")\n"
   ]
  }
 ],
 "metadata": {
  "kernelspec": {
   "display_name": "Python 3",
   "language": "python",
   "name": "python3"
  },
  "language_info": {
   "codemirror_mode": {
    "name": "ipython",
    "version": 3
   },
   "file_extension": ".py",
   "mimetype": "text/x-python",
   "name": "python",
   "nbconvert_exporter": "python",
   "pygments_lexer": "ipython3",
   "version": "3.8.5"
  }
 },
 "nbformat": 4,
 "nbformat_minor": 4
}
