{
 "cells": [
  {
   "cell_type": "code",
   "execution_count": 1,
   "metadata": {},
   "outputs": [
    {
     "data": {
      "text/html": [
       "<div>\n",
       "<style scoped>\n",
       "    .dataframe tbody tr th:only-of-type {\n",
       "        vertical-align: middle;\n",
       "    }\n",
       "\n",
       "    .dataframe tbody tr th {\n",
       "        vertical-align: top;\n",
       "    }\n",
       "\n",
       "    .dataframe thead th {\n",
       "        text-align: right;\n",
       "    }\n",
       "</style>\n",
       "<table border=\"1\" class=\"dataframe\">\n",
       "  <thead>\n",
       "    <tr style=\"text-align: right;\">\n",
       "      <th></th>\n",
       "      <th>Date</th>\n",
       "      <th>Profit/Losses</th>\n",
       "    </tr>\n",
       "  </thead>\n",
       "  <tbody>\n",
       "    <tr>\n",
       "      <th>0</th>\n",
       "      <td>Jan-2010</td>\n",
       "      <td>867884</td>\n",
       "    </tr>\n",
       "    <tr>\n",
       "      <th>1</th>\n",
       "      <td>Feb-2010</td>\n",
       "      <td>984655</td>\n",
       "    </tr>\n",
       "    <tr>\n",
       "      <th>2</th>\n",
       "      <td>Mar-2010</td>\n",
       "      <td>322013</td>\n",
       "    </tr>\n",
       "    <tr>\n",
       "      <th>3</th>\n",
       "      <td>Apr-2010</td>\n",
       "      <td>-69417</td>\n",
       "    </tr>\n",
       "    <tr>\n",
       "      <th>4</th>\n",
       "      <td>May-2010</td>\n",
       "      <td>310503</td>\n",
       "    </tr>\n",
       "  </tbody>\n",
       "</table>\n",
       "</div>"
      ],
      "text/plain": [
       "       Date  Profit/Losses\n",
       "0  Jan-2010         867884\n",
       "1  Feb-2010         984655\n",
       "2  Mar-2010         322013\n",
       "3  Apr-2010         -69417\n",
       "4  May-2010         310503"
      ]
     },
     "execution_count": 1,
     "metadata": {},
     "output_type": "execute_result"
    }
   ],
   "source": [
    "# Import csv and pandas libraries\n",
    "import csv\n",
    "import pandas as pd\n",
    "\n",
    "# Set file path \n",
    "csvpath = \"./Resources/budget_data.csv\"\n",
    "\n",
    "# Read csv file directly into dataframe\n",
    "df_pnl = pd.read_csv(csvpath)\n",
    "\n",
    "df_pnl.head()\n"
   ]
  },
  {
   "cell_type": "code",
   "execution_count": 27,
   "metadata": {},
   "outputs": [
    {
     "name": "stdout",
     "output_type": "stream",
     "text": [
      "Total months: 86\n",
      "Total profit: $38,382,578\n",
      "Average change: $-2,315.1176470588234\n",
      "Greatest Increase in Profits: Feb-2012 ($1,926,159.0)\n",
      "Greatest Decrease in Profits: Sep-2013 ($-2,196,167.0)\n"
     ]
    }
   ],
   "source": [
    "## Print the metrics\n",
    "\n",
    "# Total months\n",
    "print(f\"Total months: {df_pnl['Profit/Losses'].count()}\")\n",
    "\n",
    "total_pnl = df_pnl['Profit/Losses'].sum()\n",
    "if total_pnl >= 0:\n",
    "    print(f\"Total profit: ${total_pnl:,}\")\n",
    "elif total_pnl < 0:\n",
    "    print(f\"Total loss: ${total_pnl:,}\")\n",
    "# Total    \n",
    "df_pnl['DailyReturn'] = df_pnl['Profit/Losses'] - df_pnl['Profit/Losses'].shift(1)\n",
    "average_pnl = df_pnl['DailyReturn'].sum()/(df_pnl['DailyReturn'].count())\n",
    "print(f\"Average change: ${average_pnl:,}\")\n",
    "\n",
    "\n",
    "calc_max = df_pnl['DailyReturn'].max()\n",
    "date_max_idx = df_pnl['DailyReturn'].idxmax()\n",
    "date_max = df_pnl.iloc[date_max_idx][0]\n",
    "print(f\"Greatest Increase in Profits: {date_max} (${calc_max:,})\")\n",
    "\n",
    "calc_min = df_pnl['DailyReturn'].min()\n",
    "date_min_idx = df_pnl['DailyReturn'].idxmin()\n",
    "date_min = df_pnl.iloc[date_min_idx][0]\n",
    "print(f\"Greatest Decrease in Profits: {date_min} (${calc_min:,})\")\n"
   ]
  }
 ],
 "metadata": {
  "kernelspec": {
   "display_name": "Python 3",
   "language": "python",
   "name": "python3"
  },
  "language_info": {
   "codemirror_mode": {
    "name": "ipython",
    "version": 3
   },
   "file_extension": ".py",
   "mimetype": "text/x-python",
   "name": "python",
   "nbconvert_exporter": "python",
   "pygments_lexer": "ipython3",
   "version": "3.8.5"
  }
 },
 "nbformat": 4,
 "nbformat_minor": 4
}
