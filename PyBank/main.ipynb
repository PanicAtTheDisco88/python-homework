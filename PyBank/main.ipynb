{
 "cells": [
  {
   "cell_type": "code",
   "execution_count": 2,
   "metadata": {},
   "outputs": [],
   "source": [
    "# Import csv and pandas libraries\n",
    "import csv\n",
    "import pandas as pd\n",
    "\n",
    "# Set file path \n",
    "csvpath = \"./Resources/budget_data.csv\"\n",
    "\n",
    "# Read csv file directly into dataframe\n",
    "df_pnl = pd.read_csv(csvpath)"
   ]
  },
  {
   "cell_type": "code",
   "execution_count": 15,
   "metadata": {},
   "outputs": [
    {
     "name": "stdout",
     "output_type": "stream",
     "text": [
      "Financial Analysis\n",
      "-------------------------------------------------------\n",
      "Total months: 86\n",
      "Total profit: $38,382,578.00\n",
      "Average change: $-2,315.12\n",
      "Greatest Increase in Profits: Feb-2012 ($1,926,159.00)\n",
      "Greatest Decrease in Profits: Sep-2013 ($-2,196,167.00)\n"
     ]
    }
   ],
   "source": [
    "# Print the metrics to terminal and to file: PyBank/output.txt\n",
    "print(\"Financial Analysis\")\n",
    "print(\"Financial Analysis\", file=open('../PyBank/output.txt','w'))\n",
    "print(\"-------------------------------------------------------\")\n",
    "print(\"-------------------------------------------------------\", file=open('../PyBank/output.txt','a'))\n",
    "\n",
    "# Prints total months to terminal and PyBank/output.txt\n",
    "print(f\"Total months: {df_pnl['Profit/Losses'].count()}\")\n",
    "print(f\"Total months: {df_pnl['Profit/Losses'].count()}\",  file=open('../PyBank/output.txt', 'a'))\n",
    "\n",
    "# Calculates total profit/loss; prints to terminal and to PyBank/output.txt\n",
    "total_pnl = df_pnl['Profit/Losses'].sum()\n",
    "if total_pnl >= 0:\n",
    "    print(f\"Total profit: ${total_pnl:,.2f}\")\n",
    "    print(f\"Total profit: ${total_pnl:,.2f}\",  file=open('../PyBank/output.txt', 'a'))\n",
    "elif total_pnl < 0:\n",
    "    print(f\"Total loss: ${total_pnl:,.2f}\")\n",
    "    print(f\"Total loss: ${total_pnl:,.2f}\", file=open('../PyBank/output.txt', 'a'))\n",
    "\n",
    "# Calculates average return in the dataset df_pnl; prints to terminal and to PyBank/output.txt\n",
    "df_pnl['DailyReturn'] = df_pnl['Profit/Losses'] - df_pnl['Profit/Losses'].shift(1)\n",
    "average_pnl = df_pnl['DailyReturn'].sum()/(df_pnl['DailyReturn'].count())\n",
    "print(f\"Average change: ${average_pnl:,.2f}\")\n",
    "print(f\"Average change: ${average_pnl:,.2f}\", file=open('../PyBank/output.txt','a'))\n",
    "\n",
    "# Calculates greatest increase in profits and associated date in the dataset df_pnl; prints to terminal and to PyBank/output.txt\n",
    "calc_max = df_pnl['DailyReturn'].max()\n",
    "date_max_idx = df_pnl['DailyReturn'].idxmax()\n",
    "date_max = df_pnl.iloc[date_max_idx][0]\n",
    "print(f\"Greatest Increase in Profits: {date_max} (${calc_max:,.2f})\")\n",
    "print(f\"Greatest Increase in Profits: {date_max} (${calc_max:,.2f})\", file=open('../PyBank/output.txt','a'))\n",
    "\n",
    "# Calculates greatest decrease in profits and associated date in dataset df_pnl; prints to terminal and to PyBank/output.txt\n",
    "calc_min = df_pnl['DailyReturn'].min()\n",
    "date_min_idx = df_pnl['DailyReturn'].idxmin()\n",
    "date_min = df_pnl.iloc[date_min_idx][0]\n",
    "print(f\"Greatest Decrease in Profits: {date_min} (${calc_min:,.2f})\")\n",
    "print(f\"Greatest Decrease in Profits: {date_min} (${calc_min:,.2f})\", file=open('../PyBank/output.txt','a'))"
   ]
  }
 ],
 "metadata": {
  "kernelspec": {
   "display_name": "Python 3",
   "language": "python",
   "name": "python3"
  },
  "language_info": {
   "codemirror_mode": {
    "name": "ipython",
    "version": 3
   },
   "file_extension": ".py",
   "mimetype": "text/x-python",
   "name": "python",
   "nbconvert_exporter": "python",
   "pygments_lexer": "ipython3",
   "version": "3.8.5"
  }
 },
 "nbformat": 4,
 "nbformat_minor": 4
}
