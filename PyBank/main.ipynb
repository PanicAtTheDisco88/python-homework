{
 "cells": [
  {
   "cell_type": "code",
   "execution_count": 82,
   "metadata": {},
   "outputs": [
    {
     "name": "stdout",
     "output_type": "stream",
     "text": [
      "['Date', 'Profit/Losses'] <---- HEADER\n"
     ]
    }
   ],
   "source": [
    "# Import from the pathlib and csv library\n",
    "from pathlib import Path\n",
    "import csv\n",
    "#from pandas import DataFrame\n",
    "\n",
    "# Set file path \n",
    "csvpath = \"./Resources/budget_data.csv\"\n",
    "\n",
    "# Initialize variable to hold profit/loss data\n",
    "pnl_data = []\n",
    "\n",
    "# Initialize line_num variable\n",
    "line_num = 0\n",
    "\n",
    "# Open the input path as a file object\n",
    "with open (csvpath, 'r') as csvfile:\n",
    "    # Pass in the csv file to the csv.reader() function\n",
    "    # (with ',' as the delmiter/separator) and return the csvreader object\n",
    "    csvreader = csv.reader(csvfile, delimiter=',')\n",
    "   \n",
    "    # Go to the next row from the start of the file\n",
    "    # (which is often the first row/header) and iterate line_num by 1\n",
    "    header = next(csvreader)\n",
    "    line_num += 1\n",
    "    # Print the header\n",
    "    print(f\"{header} <---- HEADER\")\n",
    "\n",
    "    # Read each row of data after the header\n",
    "    for row in csvreader:\n",
    "        # Populate list pnl_data with date and corresponding profit/loss data\n",
    "        #date = row[0]\n",
    "        #pnl_data.append(date)\n",
    "        pnl = int(row[1])\n",
    "        pnl_data.append(pnl)\n",
    "\n",
    "#print(pnl_data)\n",
    "        \n",
    "        "
   ]
  },
  {
   "cell_type": "code",
   "execution_count": 101,
   "metadata": {},
   "outputs": [
    {
     "ename": "SyntaxError",
     "evalue": "invalid syntax (<ipython-input-101-9ad9c1e6c866>, line 8)",
     "output_type": "error",
     "traceback": [
      "\u001b[1;36m  File \u001b[1;32m\"<ipython-input-101-9ad9c1e6c866>\"\u001b[1;36m, line \u001b[1;32m8\u001b[0m\n\u001b[1;33m    print(f'Total months: {df_pnl['Profit/Losses'].count()}')\u001b[0m\n\u001b[1;37m                                   ^\u001b[0m\n\u001b[1;31mSyntaxError\u001b[0m\u001b[1;31m:\u001b[0m invalid syntax\n"
     ]
    }
   ],
   "source": [
    "# Convert list to pandas dataframe\n",
    "#df_pnl = DataFrame(pnl_data,columns=['Profit/Losses'])\n",
    "\n",
    "# OR: read csv file directly into dataframe\n",
    "df_pnl = pd.read_csv(csvpath)\n",
    "\n",
    "# Print the metrics\n",
    "print(f'Total months: {df_pnl['Profit/Losses'].count()}')\n",
    "\n",
    "print(f'Total: ${df_pnl['Profit/Losses'].sum()}')\n",
    "\n",
    "daily_return = df_pnl['Profit/Losses'] - df_pnl['Profit/Losses'].shift(1)\n",
    "average_pnl = daily_return.sum()/(df_pnl.count()-1)\n",
    "print(f'Average change: $\"{average_pnl}')\n",
    "\n",
    "calc_max = daily_return['Profit/Losses'].max()\n",
    "\n",
    "print(f'Greatest Increase in Profits: ${calc_max}')\n",
    "\n",
    "print(f\"Greatest Decrease in Profits: ${daily_return['Profit/Losses'].min()}\")\n",
    "\n",
    "\n"
   ]
  },
  {
   "cell_type": "code",
   "execution_count": 99,
   "metadata": {},
   "outputs": [
    {
     "data": {
      "text/html": [
       "<div>\n",
       "<style scoped>\n",
       "    .dataframe tbody tr th:only-of-type {\n",
       "        vertical-align: middle;\n",
       "    }\n",
       "\n",
       "    .dataframe tbody tr th {\n",
       "        vertical-align: top;\n",
       "    }\n",
       "\n",
       "    .dataframe thead th {\n",
       "        text-align: right;\n",
       "    }\n",
       "</style>\n",
       "<table border=\"1\" class=\"dataframe\">\n",
       "  <thead>\n",
       "    <tr style=\"text-align: right;\">\n",
       "      <th></th>\n",
       "      <th>Date</th>\n",
       "      <th>Profit/Losses</th>\n",
       "      <th>shifted:</th>\n",
       "      <th>changed:</th>\n",
       "    </tr>\n",
       "  </thead>\n",
       "  <tbody>\n",
       "    <tr>\n",
       "      <th>0</th>\n",
       "      <td>Jan-2010</td>\n",
       "      <td>867884</td>\n",
       "      <td>NaN</td>\n",
       "      <td>NaN</td>\n",
       "    </tr>\n",
       "    <tr>\n",
       "      <th>1</th>\n",
       "      <td>Feb-2010</td>\n",
       "      <td>984655</td>\n",
       "      <td>867884.0</td>\n",
       "      <td>116771.0</td>\n",
       "    </tr>\n",
       "    <tr>\n",
       "      <th>2</th>\n",
       "      <td>Mar-2010</td>\n",
       "      <td>322013</td>\n",
       "      <td>984655.0</td>\n",
       "      <td>-662642.0</td>\n",
       "    </tr>\n",
       "    <tr>\n",
       "      <th>3</th>\n",
       "      <td>Apr-2010</td>\n",
       "      <td>-69417</td>\n",
       "      <td>322013.0</td>\n",
       "      <td>-391430.0</td>\n",
       "    </tr>\n",
       "    <tr>\n",
       "      <th>4</th>\n",
       "      <td>May-2010</td>\n",
       "      <td>310503</td>\n",
       "      <td>-69417.0</td>\n",
       "      <td>379920.0</td>\n",
       "    </tr>\n",
       "  </tbody>\n",
       "</table>\n",
       "</div>"
      ],
      "text/plain": [
       "       Date  Profit/Losses  shifted:   changed: \n",
       "0  Jan-2010         867884        NaN        NaN\n",
       "1  Feb-2010         984655   867884.0   116771.0\n",
       "2  Mar-2010         322013   984655.0  -662642.0\n",
       "3  Apr-2010         -69417   322013.0  -391430.0\n",
       "4  May-2010         310503   -69417.0   379920.0"
      ]
     },
     "execution_count": 99,
     "metadata": {},
     "output_type": "execute_result"
    }
   ],
   "source": [
    "df_pnl[\"shifted: \"] = df_pnl['Profit/Losses'].shift(1)\n",
    "df_pnl[\"changed: \"] = df_pnl['Profit/Losses'].diff()\n",
    "df_pnl.head()"
   ]
  },
  {
   "cell_type": "code",
   "execution_count": null,
   "metadata": {},
   "outputs": [],
   "source": [
    "\n",
    "#Ask user if they would like to copy file from the source\n",
    "copyfile_flag = input(f\"Would you like to copy: {budget_filepath_source} (y/n)\\n\\n\")\n",
    "\n",
    "if copyfile_flag == 'y':\n",
    "        print(f\"\\n Copying...\")\n",
    "        print(budget_filepath_source)\n",
    "        with open(budget_filepath_source, 'r') as file:\n",
    "            print(\"here\")\n",
    "            # Store all of the text from the file inside a variable called \"text\"\n",
    "            # and print the contexts of the text file\n",
    "            text = file.read()\n",
    "            print(text)\n",
    "elif copyfile_flag != 'y':\n",
    "    print(f\"\\n Goodbye!\")\n",
    "    quit()"
   ]
  },
  {
   "cell_type": "code",
   "execution_count": null,
   "metadata": {},
   "outputs": [],
   "source": [
    "help(Path)\n"
   ]
  },
  {
   "cell_type": "code",
   "execution_count": null,
   "metadata": {},
   "outputs": [],
   "source": []
  }
 ],
 "metadata": {
  "kernelspec": {
   "display_name": "Python 3",
   "language": "python",
   "name": "python3"
  },
  "language_info": {
   "codemirror_mode": {
    "name": "ipython",
    "version": 3
   },
   "file_extension": ".py",
   "mimetype": "text/x-python",
   "name": "python",
   "nbconvert_exporter": "python",
   "pygments_lexer": "ipython3",
   "version": "3.8.5"
  }
 },
 "nbformat": 4,
 "nbformat_minor": 4
}
