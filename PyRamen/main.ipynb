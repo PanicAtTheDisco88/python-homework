{
 "cells": [
  {
   "cell_type": "code",
   "execution_count": 1,
   "metadata": {},
   "outputs": [
    {
     "name": "stdout",
     "output_type": "stream",
     "text": [
      "Printing file path of local copy of PyRamen and names of files within PyRamen directory\n",
      "C:\\Users\\rhnil\\Desktop\\Week2_Python\\python-homework\\PyRamen\n",
      "['.ipynb_checkpoints', 'main.ipynb']\n",
      "\n",
      "Alternative method for printing files with PyRamen directory -- full path with filename\n",
      "['C:\\\\Users\\\\rhnil\\\\Desktop\\\\Week2_Python\\\\python-homework\\\\PyRamen\\\\.ipynb_checkpoints', 'C:\\\\Users\\\\rhnil\\\\Desktop\\\\Week2_Python\\\\python-homework\\\\PyRamen\\\\main.ipynb']\n"
     ]
    }
   ],
   "source": [
    "# Print file path of local copy of PyRamen and names of files within PyRamen directory\n",
    "print(\"Printing file path of local copy of PyRamen and names of files within PyRamen directory\")\n",
    "import os\n",
    "path = os.getcwd()\n",
    "print (path)\n",
    "\n",
    "f_name = os.listdir()\n",
    "print (f_name)\n",
    "print (\"\")\n",
    "\n",
    "# Alternative method for printing files with PyRamen directory -- full path with filename\n",
    "print (\"Alternative method for printing files with PyRamen directory -- full path with filename\") \n",
    "f_name = [os.path.abspath(x) for x in os.listdir()]\n",
    "print (f_name)\n"
   ]
  },
  {
   "cell_type": "code",
   "execution_count": null,
   "metadata": {},
   "outputs": [],
   "source": []
  }
 ],
 "metadata": {
  "kernelspec": {
   "display_name": "Python 3",
   "language": "python",
   "name": "python3"
  },
  "language_info": {
   "codemirror_mode": {
    "name": "ipython",
    "version": 3
   },
   "file_extension": ".py",
   "mimetype": "text/x-python",
   "name": "python",
   "nbconvert_exporter": "python",
   "pygments_lexer": "ipython3",
   "version": "3.8.5"
  }
 },
 "nbformat": 4,
 "nbformat_minor": 4
}
